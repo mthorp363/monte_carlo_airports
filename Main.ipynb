{
 "cells": [
  {
   "cell_type": "markdown",
   "metadata": {},
   "source": [
    "# Insights from a Black Swan Event Monte Carlo Simulation on International Flight Numbers"
   ]
  },
  {
   "cell_type": "markdown",
   "metadata": {},
   "source": [
    "## Executive Summary"
   ]
  },
  {
   "cell_type": "markdown",
   "metadata": {},
   "source": [
    "A Black Swan Monte Carlo experiment was performed on international flight data to see how removing random airports, cities and countries would affect overall flight numbers and what information would emerge from the data. Firstly, data was obtained from OpenFlights and cleaned. Following this exploratory data analysis was performed, some of the key insights were as follows:\n",
    "\n",
    "- Airports and cities are heavily clustered under 2000 flights. Countries have a more even distribution, with most under approximately 3000.\n",
    "- In each category it appears that there is one to three outliers in each category, the US appears in the outliers in all three.\n",
    "- All of the top cities are in the top 10 countries except for Istanbul.\n",
    "\n",
    "Following this, a Monte Carlo experiment was performed on all three categories, yielding the following insights:\n",
    "\n",
    "- Countries bottomed out just below 50 events with quite a wide distribution between minimum and maximum.\n",
    "- Initially airports and cities were closely connected with overlapping values. However, after approximately 200 events, the two diverged with a small but stable difference.\n"
   ]
  },
  {
   "cell_type": "markdown",
   "metadata": {},
   "source": [
    "## Introduction"
   ]
  },
  {
   "cell_type": "markdown",
   "metadata": {},
   "source": [
    "As a result of the COVID-19 pandemic, international flights have suffered a substantial drop with numerous travel bans and lockdowns in place. With this in mind, understanding how pronounced the downward spiral effect could be will give key decision makers an indicator of what they should expect. To do this, a Black Swan Monte Carlo simulator will be used to show the likely impact this could have on the number of international flights. A Monte Carlo simulator is a model which repeatedly performs a set simulation a number of times in which specific events take place. The data from this is used to show what is likely to happen if a particular strategy is used. In this context, the Monte Carlo simulator will have specified number of black swan events in which a specified number of random 'nodes' (for example airports) will be removed.\n",
    "This analysis will involve obtaining and cleaning data, performing exploratory data analysis, running a Black Swan Monte Carlo simulator and drawing insights from the resulting data. A Black Swan event is a (seemingly) unexpected large-scale event which actors are forced to react to, for example the 2008 financial crash."
   ]
  },
  {
   "cell_type": "code",
   "execution_count": 1,
   "metadata": {},
   "outputs": [],
   "source": [
    "import pandas as pd\n",
    "import numpy as np\n",
    "import seaborn as sns\n",
    "import matplotlib.pyplot as plt\n",
    "import networkx as nx\n",
    "import random"
   ]
  },
  {
   "cell_type": "markdown",
   "metadata": {},
   "source": [
    "## Creating dataset and data cleaning"
   ]
  },
  {
   "cell_type": "code",
   "execution_count": 2,
   "metadata": {},
   "outputs": [
    {
     "data": {
      "text/html": [
       "<div>\n",
       "<style scoped>\n",
       "    .dataframe tbody tr th:only-of-type {\n",
       "        vertical-align: middle;\n",
       "    }\n",
       "\n",
       "    .dataframe tbody tr th {\n",
       "        vertical-align: top;\n",
       "    }\n",
       "\n",
       "    .dataframe thead th {\n",
       "        text-align: right;\n",
       "    }\n",
       "</style>\n",
       "<table border=\"1\" class=\"dataframe\">\n",
       "  <thead>\n",
       "    <tr style=\"text-align: right;\">\n",
       "      <th></th>\n",
       "      <th>source_airport</th>\n",
       "      <th>destination_airport</th>\n",
       "      <th>source_name</th>\n",
       "      <th>source_city</th>\n",
       "      <th>source_country</th>\n",
       "      <th>destination_name</th>\n",
       "      <th>destination_city</th>\n",
       "      <th>destination_country</th>\n",
       "    </tr>\n",
       "  </thead>\n",
       "  <tbody>\n",
       "    <tr>\n",
       "      <th>0</th>\n",
       "      <td>AER</td>\n",
       "      <td>KZN</td>\n",
       "      <td>Sochi International Airport</td>\n",
       "      <td>Sochi</td>\n",
       "      <td>Russia</td>\n",
       "      <td>Kazan International Airport</td>\n",
       "      <td>Kazan</td>\n",
       "      <td>Russia</td>\n",
       "    </tr>\n",
       "    <tr>\n",
       "      <th>1</th>\n",
       "      <td>ASF</td>\n",
       "      <td>KZN</td>\n",
       "      <td>Astrakhan Airport</td>\n",
       "      <td>Astrakhan</td>\n",
       "      <td>Russia</td>\n",
       "      <td>Kazan International Airport</td>\n",
       "      <td>Kazan</td>\n",
       "      <td>Russia</td>\n",
       "    </tr>\n",
       "    <tr>\n",
       "      <th>2</th>\n",
       "      <td>ASF</td>\n",
       "      <td>MRV</td>\n",
       "      <td>Astrakhan Airport</td>\n",
       "      <td>Astrakhan</td>\n",
       "      <td>Russia</td>\n",
       "      <td>Mineralnyye Vody Airport</td>\n",
       "      <td>Mineralnye Vody</td>\n",
       "      <td>Russia</td>\n",
       "    </tr>\n",
       "    <tr>\n",
       "      <th>3</th>\n",
       "      <td>CEK</td>\n",
       "      <td>KZN</td>\n",
       "      <td>Chelyabinsk Balandino Airport</td>\n",
       "      <td>Chelyabinsk</td>\n",
       "      <td>Russia</td>\n",
       "      <td>Kazan International Airport</td>\n",
       "      <td>Kazan</td>\n",
       "      <td>Russia</td>\n",
       "    </tr>\n",
       "    <tr>\n",
       "      <th>4</th>\n",
       "      <td>CEK</td>\n",
       "      <td>OVB</td>\n",
       "      <td>Chelyabinsk Balandino Airport</td>\n",
       "      <td>Chelyabinsk</td>\n",
       "      <td>Russia</td>\n",
       "      <td>Tolmachevo Airport</td>\n",
       "      <td>Novosibirsk</td>\n",
       "      <td>Russia</td>\n",
       "    </tr>\n",
       "    <tr>\n",
       "      <th>...</th>\n",
       "      <td>...</td>\n",
       "      <td>...</td>\n",
       "      <td>...</td>\n",
       "      <td>...</td>\n",
       "      <td>...</td>\n",
       "      <td>...</td>\n",
       "      <td>...</td>\n",
       "      <td>...</td>\n",
       "    </tr>\n",
       "    <tr>\n",
       "      <th>67647</th>\n",
       "      <td>WYA</td>\n",
       "      <td>ADL</td>\n",
       "      <td>Whyalla Airport</td>\n",
       "      <td>Whyalla</td>\n",
       "      <td>Australia</td>\n",
       "      <td>Adelaide International Airport</td>\n",
       "      <td>Adelaide</td>\n",
       "      <td>Australia</td>\n",
       "    </tr>\n",
       "    <tr>\n",
       "      <th>67648</th>\n",
       "      <td>DME</td>\n",
       "      <td>FRU</td>\n",
       "      <td>Domodedovo International Airport</td>\n",
       "      <td>Moscow</td>\n",
       "      <td>Russia</td>\n",
       "      <td>Manas International Airport</td>\n",
       "      <td>Bishkek</td>\n",
       "      <td>Kyrgyzstan</td>\n",
       "    </tr>\n",
       "    <tr>\n",
       "      <th>67649</th>\n",
       "      <td>FRU</td>\n",
       "      <td>DME</td>\n",
       "      <td>Manas International Airport</td>\n",
       "      <td>Bishkek</td>\n",
       "      <td>Kyrgyzstan</td>\n",
       "      <td>Domodedovo International Airport</td>\n",
       "      <td>Moscow</td>\n",
       "      <td>Russia</td>\n",
       "    </tr>\n",
       "    <tr>\n",
       "      <th>67650</th>\n",
       "      <td>FRU</td>\n",
       "      <td>OSS</td>\n",
       "      <td>Manas International Airport</td>\n",
       "      <td>Bishkek</td>\n",
       "      <td>Kyrgyzstan</td>\n",
       "      <td>Osh Airport</td>\n",
       "      <td>Osh</td>\n",
       "      <td>Kyrgyzstan</td>\n",
       "    </tr>\n",
       "    <tr>\n",
       "      <th>67651</th>\n",
       "      <td>OSS</td>\n",
       "      <td>FRU</td>\n",
       "      <td>Osh Airport</td>\n",
       "      <td>Osh</td>\n",
       "      <td>Kyrgyzstan</td>\n",
       "      <td>Manas International Airport</td>\n",
       "      <td>Bishkek</td>\n",
       "      <td>Kyrgyzstan</td>\n",
       "    </tr>\n",
       "  </tbody>\n",
       "</table>\n",
       "<p>67652 rows × 8 columns</p>\n",
       "</div>"
      ],
      "text/plain": [
       "      source_airport destination_airport                       source_name  \\\n",
       "0                AER                 KZN       Sochi International Airport   \n",
       "1                ASF                 KZN                 Astrakhan Airport   \n",
       "2                ASF                 MRV                 Astrakhan Airport   \n",
       "3                CEK                 KZN     Chelyabinsk Balandino Airport   \n",
       "4                CEK                 OVB     Chelyabinsk Balandino Airport   \n",
       "...              ...                 ...                               ...   \n",
       "67647            WYA                 ADL                   Whyalla Airport   \n",
       "67648            DME                 FRU  Domodedovo International Airport   \n",
       "67649            FRU                 DME       Manas International Airport   \n",
       "67650            FRU                 OSS       Manas International Airport   \n",
       "67651            OSS                 FRU                       Osh Airport   \n",
       "\n",
       "       source_city source_country                  destination_name  \\\n",
       "0            Sochi         Russia       Kazan International Airport   \n",
       "1        Astrakhan         Russia       Kazan International Airport   \n",
       "2        Astrakhan         Russia          Mineralnyye Vody Airport   \n",
       "3      Chelyabinsk         Russia       Kazan International Airport   \n",
       "4      Chelyabinsk         Russia                Tolmachevo Airport   \n",
       "...            ...            ...                               ...   \n",
       "67647      Whyalla      Australia    Adelaide International Airport   \n",
       "67648       Moscow         Russia       Manas International Airport   \n",
       "67649      Bishkek     Kyrgyzstan  Domodedovo International Airport   \n",
       "67650      Bishkek     Kyrgyzstan                       Osh Airport   \n",
       "67651          Osh     Kyrgyzstan       Manas International Airport   \n",
       "\n",
       "      destination_city destination_country  \n",
       "0                Kazan              Russia  \n",
       "1                Kazan              Russia  \n",
       "2      Mineralnye Vody              Russia  \n",
       "3                Kazan              Russia  \n",
       "4          Novosibirsk              Russia  \n",
       "...                ...                 ...  \n",
       "67647         Adelaide           Australia  \n",
       "67648          Bishkek          Kyrgyzstan  \n",
       "67649           Moscow              Russia  \n",
       "67650              Osh          Kyrgyzstan  \n",
       "67651          Bishkek          Kyrgyzstan  \n",
       "\n",
       "[67652 rows x 8 columns]"
      ]
     },
     "execution_count": 2,
     "metadata": {},
     "output_type": "execute_result"
    }
   ],
   "source": [
    "r_columns = ['source_airport','destination_airport','stops']\n",
    "l_columns = ['source_name', 'source_city','source_country','source_airport']\n",
    "\n",
    "df_routes = pd.read_csv('https://raw.githubusercontent.com/jpatokal/openflights/master/data/routes.dat', header=None, usecols=[2,4,7], names=r_columns)\n",
    "df_locs = pd.read_csv('https://raw.githubusercontent.com/jpatokal/openflights/master/data/airports.dat', header=None, usecols=[1, 2,3,4], names=l_columns)\n",
    "df_routes = df_routes.loc[df_routes['stops'] == 0]\n",
    "df_routes = df_routes.drop('stops', axis=1)\n",
    "df_source = df_routes.merge(df_locs, how='left')\n",
    "df_locs =df_locs.rename(columns={\"source_name\":\"destination_name\",\"source_airport\":\"destination_airport\",\"source_city\":\"destination_city\",\"source_country\":\"destination_country\"})\n",
    "df = df_source.merge(df_locs, how='left')\n",
    "df"
   ]
  },
  {
   "cell_type": "code",
   "execution_count": 3,
   "metadata": {},
   "outputs": [
    {
     "name": "stdout",
     "output_type": "stream",
     "text": [
      "Amount of NaN values: 733\n",
      "Percentage of all values: 1.0834860757996807\n"
     ]
    }
   ],
   "source": [
    "df_nan = df[df.isnull().any(axis=1)]\n",
    "print('Amount of NaN values:', len(df_nan))\n",
    "print('Percentage of all values:', (len(df_nan)/len(df))*100)\n"
   ]
  },
  {
   "cell_type": "markdown",
   "metadata": {},
   "source": [
    "Due to the low amount of missing data and the complexity in manually entering all of the relevant information, the missing values will be removed."
   ]
  },
  {
   "cell_type": "code",
   "execution_count": 4,
   "metadata": {},
   "outputs": [
    {
     "data": {
      "text/html": [
       "<div>\n",
       "<style scoped>\n",
       "    .dataframe tbody tr th:only-of-type {\n",
       "        vertical-align: middle;\n",
       "    }\n",
       "\n",
       "    .dataframe tbody tr th {\n",
       "        vertical-align: top;\n",
       "    }\n",
       "\n",
       "    .dataframe thead th {\n",
       "        text-align: right;\n",
       "    }\n",
       "</style>\n",
       "<table border=\"1\" class=\"dataframe\">\n",
       "  <thead>\n",
       "    <tr style=\"text-align: right;\">\n",
       "      <th></th>\n",
       "      <th>source_airport</th>\n",
       "      <th>destination_airport</th>\n",
       "      <th>source_name</th>\n",
       "      <th>source_city</th>\n",
       "      <th>source_country</th>\n",
       "      <th>destination_name</th>\n",
       "      <th>destination_city</th>\n",
       "      <th>destination_country</th>\n",
       "    </tr>\n",
       "  </thead>\n",
       "  <tbody>\n",
       "    <tr>\n",
       "      <th>0</th>\n",
       "      <td>AER</td>\n",
       "      <td>KZN</td>\n",
       "      <td>Sochi International Airport</td>\n",
       "      <td>Sochi</td>\n",
       "      <td>Russia</td>\n",
       "      <td>Kazan International Airport</td>\n",
       "      <td>Kazan</td>\n",
       "      <td>Russia</td>\n",
       "    </tr>\n",
       "    <tr>\n",
       "      <th>1</th>\n",
       "      <td>ASF</td>\n",
       "      <td>KZN</td>\n",
       "      <td>Astrakhan Airport</td>\n",
       "      <td>Astrakhan</td>\n",
       "      <td>Russia</td>\n",
       "      <td>Kazan International Airport</td>\n",
       "      <td>Kazan</td>\n",
       "      <td>Russia</td>\n",
       "    </tr>\n",
       "    <tr>\n",
       "      <th>2</th>\n",
       "      <td>ASF</td>\n",
       "      <td>MRV</td>\n",
       "      <td>Astrakhan Airport</td>\n",
       "      <td>Astrakhan</td>\n",
       "      <td>Russia</td>\n",
       "      <td>Mineralnyye Vody Airport</td>\n",
       "      <td>Mineralnye Vody</td>\n",
       "      <td>Russia</td>\n",
       "    </tr>\n",
       "    <tr>\n",
       "      <th>3</th>\n",
       "      <td>CEK</td>\n",
       "      <td>KZN</td>\n",
       "      <td>Chelyabinsk Balandino Airport</td>\n",
       "      <td>Chelyabinsk</td>\n",
       "      <td>Russia</td>\n",
       "      <td>Kazan International Airport</td>\n",
       "      <td>Kazan</td>\n",
       "      <td>Russia</td>\n",
       "    </tr>\n",
       "    <tr>\n",
       "      <th>4</th>\n",
       "      <td>CEK</td>\n",
       "      <td>OVB</td>\n",
       "      <td>Chelyabinsk Balandino Airport</td>\n",
       "      <td>Chelyabinsk</td>\n",
       "      <td>Russia</td>\n",
       "      <td>Tolmachevo Airport</td>\n",
       "      <td>Novosibirsk</td>\n",
       "      <td>Russia</td>\n",
       "    </tr>\n",
       "    <tr>\n",
       "      <th>...</th>\n",
       "      <td>...</td>\n",
       "      <td>...</td>\n",
       "      <td>...</td>\n",
       "      <td>...</td>\n",
       "      <td>...</td>\n",
       "      <td>...</td>\n",
       "      <td>...</td>\n",
       "      <td>...</td>\n",
       "    </tr>\n",
       "    <tr>\n",
       "      <th>67647</th>\n",
       "      <td>WYA</td>\n",
       "      <td>ADL</td>\n",
       "      <td>Whyalla Airport</td>\n",
       "      <td>Whyalla</td>\n",
       "      <td>Australia</td>\n",
       "      <td>Adelaide International Airport</td>\n",
       "      <td>Adelaide</td>\n",
       "      <td>Australia</td>\n",
       "    </tr>\n",
       "    <tr>\n",
       "      <th>67648</th>\n",
       "      <td>DME</td>\n",
       "      <td>FRU</td>\n",
       "      <td>Domodedovo International Airport</td>\n",
       "      <td>Moscow</td>\n",
       "      <td>Russia</td>\n",
       "      <td>Manas International Airport</td>\n",
       "      <td>Bishkek</td>\n",
       "      <td>Kyrgyzstan</td>\n",
       "    </tr>\n",
       "    <tr>\n",
       "      <th>67649</th>\n",
       "      <td>FRU</td>\n",
       "      <td>DME</td>\n",
       "      <td>Manas International Airport</td>\n",
       "      <td>Bishkek</td>\n",
       "      <td>Kyrgyzstan</td>\n",
       "      <td>Domodedovo International Airport</td>\n",
       "      <td>Moscow</td>\n",
       "      <td>Russia</td>\n",
       "    </tr>\n",
       "    <tr>\n",
       "      <th>67650</th>\n",
       "      <td>FRU</td>\n",
       "      <td>OSS</td>\n",
       "      <td>Manas International Airport</td>\n",
       "      <td>Bishkek</td>\n",
       "      <td>Kyrgyzstan</td>\n",
       "      <td>Osh Airport</td>\n",
       "      <td>Osh</td>\n",
       "      <td>Kyrgyzstan</td>\n",
       "    </tr>\n",
       "    <tr>\n",
       "      <th>67651</th>\n",
       "      <td>OSS</td>\n",
       "      <td>FRU</td>\n",
       "      <td>Osh Airport</td>\n",
       "      <td>Osh</td>\n",
       "      <td>Kyrgyzstan</td>\n",
       "      <td>Manas International Airport</td>\n",
       "      <td>Bishkek</td>\n",
       "      <td>Kyrgyzstan</td>\n",
       "    </tr>\n",
       "  </tbody>\n",
       "</table>\n",
       "<p>66919 rows × 8 columns</p>\n",
       "</div>"
      ],
      "text/plain": [
       "      source_airport destination_airport                       source_name  \\\n",
       "0                AER                 KZN       Sochi International Airport   \n",
       "1                ASF                 KZN                 Astrakhan Airport   \n",
       "2                ASF                 MRV                 Astrakhan Airport   \n",
       "3                CEK                 KZN     Chelyabinsk Balandino Airport   \n",
       "4                CEK                 OVB     Chelyabinsk Balandino Airport   \n",
       "...              ...                 ...                               ...   \n",
       "67647            WYA                 ADL                   Whyalla Airport   \n",
       "67648            DME                 FRU  Domodedovo International Airport   \n",
       "67649            FRU                 DME       Manas International Airport   \n",
       "67650            FRU                 OSS       Manas International Airport   \n",
       "67651            OSS                 FRU                       Osh Airport   \n",
       "\n",
       "       source_city source_country                  destination_name  \\\n",
       "0            Sochi         Russia       Kazan International Airport   \n",
       "1        Astrakhan         Russia       Kazan International Airport   \n",
       "2        Astrakhan         Russia          Mineralnyye Vody Airport   \n",
       "3      Chelyabinsk         Russia       Kazan International Airport   \n",
       "4      Chelyabinsk         Russia                Tolmachevo Airport   \n",
       "...            ...            ...                               ...   \n",
       "67647      Whyalla      Australia    Adelaide International Airport   \n",
       "67648       Moscow         Russia       Manas International Airport   \n",
       "67649      Bishkek     Kyrgyzstan  Domodedovo International Airport   \n",
       "67650      Bishkek     Kyrgyzstan                       Osh Airport   \n",
       "67651          Osh     Kyrgyzstan       Manas International Airport   \n",
       "\n",
       "      destination_city destination_country  \n",
       "0                Kazan              Russia  \n",
       "1                Kazan              Russia  \n",
       "2      Mineralnye Vody              Russia  \n",
       "3                Kazan              Russia  \n",
       "4          Novosibirsk              Russia  \n",
       "...                ...                 ...  \n",
       "67647         Adelaide           Australia  \n",
       "67648          Bishkek          Kyrgyzstan  \n",
       "67649           Moscow              Russia  \n",
       "67650              Osh          Kyrgyzstan  \n",
       "67651          Bishkek          Kyrgyzstan  \n",
       "\n",
       "[66919 rows x 8 columns]"
      ]
     },
     "execution_count": 4,
     "metadata": {},
     "output_type": "execute_result"
    }
   ],
   "source": [
    "df = df.dropna()\n",
    "df"
   ]
  },
  {
   "cell_type": "code",
   "execution_count": 5,
   "metadata": {},
   "outputs": [],
   "source": [
    "s_airport = df['source_airport'].tolist()\n",
    "s_city = df['source_city'].tolist()\n",
    "s_country = df['source_country'].tolist()\n",
    "d_airport = df['destination_airport'].tolist()\n",
    "d_city = df['destination_city'].tolist()\n",
    "d_country = df['destination_country'].tolist()"
   ]
  },
  {
   "cell_type": "markdown",
   "metadata": {},
   "source": [
    "## Data exploration"
   ]
  },
  {
   "cell_type": "markdown",
   "metadata": {},
   "source": [
    "To attempt to gain an insight into how the model may differ between the three different categories, a scatter diagram of all elements will be produced. Following this, the top 10 for each category will be shown. From these, insights will be drawn."
   ]
  },
  {
   "cell_type": "code",
   "execution_count": 6,
   "metadata": {},
   "outputs": [],
   "source": [
    "df_airport = pd.DataFrame()\n",
    "df_airport['source'] = df['source_airport'].value_counts()\n",
    "df_airport['destination'] = df['destination_airport'].value_counts()\n",
    "\n",
    "\n",
    "df_city = pd.DataFrame()\n",
    "df_city['source'] = df['source_city'].value_counts()\n",
    "df_city['destination'] = df['destination_city'].value_counts()\n",
    "\n",
    "\n",
    "df_country = pd.DataFrame()\n",
    "df_country['source'] = df['source_country'].value_counts()\n",
    "df_country['destination'] = df['destination_country'].value_counts()\n",
    "\n",
    "\n",
    "df_exp = pd.concat([df_airport, df_city, df_country], keys=['1', '2', '3'])\n",
    "\n",
    "df_exp=df_exp.reset_index(level=0)\n",
    "df_exp=df_exp.rename(columns={'level_0':'type'})\n",
    "df_exp['type'].replace({'1': 'airport', '2': 'city', '3':'country'}, inplace=True)"
   ]
  },
  {
   "cell_type": "code",
   "execution_count": 24,
   "metadata": {},
   "outputs": [
    {
     "data": {
      "text/plain": [
       "<seaborn.axisgrid.FacetGrid at 0x223ae9bb880>"
      ]
     },
     "execution_count": 24,
     "metadata": {},
     "output_type": "execute_result"
    },
    {
     "data": {
      "image/png": "[encoded data removed]",
      "text/plain": [
       "<Figure size 434.125x360 with 1 Axes>"
      ]
     },
     "metadata": {
      "needs_background": "light"
     },
     "output_type": "display_data"
    }
   ],
   "source": [
    "sns.relplot(data=df_exp, x='source', y='destination', hue='type', style='type', sizes=(50, 500), alpha=0.6 , size='type')"
   ]
  },
  {
   "cell_type": "code",
   "execution_count": 8,
   "metadata": {},
   "outputs": [
    {
     "data": {
      "text/html": [
       "<div>\n",
       "<style scoped>\n",
       "    .dataframe tbody tr th:only-of-type {\n",
       "        vertical-align: middle;\n",
       "    }\n",
       "\n",
       "    .dataframe tbody tr th {\n",
       "        vertical-align: top;\n",
       "    }\n",
       "\n",
       "    .dataframe thead th {\n",
       "        text-align: right;\n",
       "    }\n",
       "</style>\n",
       "<table border=\"1\" class=\"dataframe\">\n",
       "  <thead>\n",
       "    <tr style=\"text-align: right;\">\n",
       "      <th></th>\n",
       "      <th>source</th>\n",
       "      <th>destination</th>\n",
       "    </tr>\n",
       "  </thead>\n",
       "  <tbody>\n",
       "    <tr>\n",
       "      <th>ATL</th>\n",
       "      <td>915</td>\n",
       "      <td>911.0</td>\n",
       "    </tr>\n",
       "    <tr>\n",
       "      <th>ORD</th>\n",
       "      <td>558</td>\n",
       "      <td>550.0</td>\n",
       "    </tr>\n",
       "    <tr>\n",
       "      <th>LHR</th>\n",
       "      <td>527</td>\n",
       "      <td>524.0</td>\n",
       "    </tr>\n",
       "    <tr>\n",
       "      <th>PEK</th>\n",
       "      <td>525</td>\n",
       "      <td>525.0</td>\n",
       "    </tr>\n",
       "    <tr>\n",
       "      <th>CDG</th>\n",
       "      <td>524</td>\n",
       "      <td>517.0</td>\n",
       "    </tr>\n",
       "    <tr>\n",
       "      <th>FRA</th>\n",
       "      <td>497</td>\n",
       "      <td>493.0</td>\n",
       "    </tr>\n",
       "    <tr>\n",
       "      <th>LAX</th>\n",
       "      <td>489</td>\n",
       "      <td>497.0</td>\n",
       "    </tr>\n",
       "    <tr>\n",
       "      <th>DFW</th>\n",
       "      <td>469</td>\n",
       "      <td>467.0</td>\n",
       "    </tr>\n",
       "    <tr>\n",
       "      <th>JFK</th>\n",
       "      <td>456</td>\n",
       "      <td>455.0</td>\n",
       "    </tr>\n",
       "    <tr>\n",
       "      <th>AMS</th>\n",
       "      <td>453</td>\n",
       "      <td>450.0</td>\n",
       "    </tr>\n",
       "  </tbody>\n",
       "</table>\n",
       "</div>"
      ],
      "text/plain": [
       "     source  destination\n",
       "ATL     915        911.0\n",
       "ORD     558        550.0\n",
       "LHR     527        524.0\n",
       "PEK     525        525.0\n",
       "CDG     524        517.0\n",
       "FRA     497        493.0\n",
       "LAX     489        497.0\n",
       "DFW     469        467.0\n",
       "JFK     456        455.0\n",
       "AMS     453        450.0"
      ]
     },
     "metadata": {},
     "output_type": "display_data"
    },
    {
     "data": {
      "text/html": [
       "<div>\n",
       "<style scoped>\n",
       "    .dataframe tbody tr th:only-of-type {\n",
       "        vertical-align: middle;\n",
       "    }\n",
       "\n",
       "    .dataframe tbody tr th {\n",
       "        vertical-align: top;\n",
       "    }\n",
       "\n",
       "    .dataframe thead th {\n",
       "        text-align: right;\n",
       "    }\n",
       "</style>\n",
       "<table border=\"1\" class=\"dataframe\">\n",
       "  <thead>\n",
       "    <tr style=\"text-align: right;\">\n",
       "      <th></th>\n",
       "      <th>source</th>\n",
       "      <th>destination</th>\n",
       "    </tr>\n",
       "  </thead>\n",
       "  <tbody>\n",
       "    <tr>\n",
       "      <th>London</th>\n",
       "      <td>1232</td>\n",
       "      <td>1224.0</td>\n",
       "    </tr>\n",
       "    <tr>\n",
       "      <th>Atlanta</th>\n",
       "      <td>915</td>\n",
       "      <td>911.0</td>\n",
       "    </tr>\n",
       "    <tr>\n",
       "      <th>Paris</th>\n",
       "      <td>724</td>\n",
       "      <td>719.0</td>\n",
       "    </tr>\n",
       "    <tr>\n",
       "      <th>Chicago</th>\n",
       "      <td>697</td>\n",
       "      <td>682.0</td>\n",
       "    </tr>\n",
       "    <tr>\n",
       "      <th>New York</th>\n",
       "      <td>614</td>\n",
       "      <td>613.0</td>\n",
       "    </tr>\n",
       "    <tr>\n",
       "      <th>Moscow</th>\n",
       "      <td>608</td>\n",
       "      <td>607.0</td>\n",
       "    </tr>\n",
       "    <tr>\n",
       "      <th>Shanghai</th>\n",
       "      <td>606</td>\n",
       "      <td>611.0</td>\n",
       "    </tr>\n",
       "    <tr>\n",
       "      <th>Beijing</th>\n",
       "      <td>605</td>\n",
       "      <td>605.0</td>\n",
       "    </tr>\n",
       "    <tr>\n",
       "      <th>Istanbul</th>\n",
       "      <td>501</td>\n",
       "      <td>504.0</td>\n",
       "    </tr>\n",
       "    <tr>\n",
       "      <th>Frankfurt</th>\n",
       "      <td>497</td>\n",
       "      <td>493.0</td>\n",
       "    </tr>\n",
       "  </tbody>\n",
       "</table>\n",
       "</div>"
      ],
      "text/plain": [
       "           source  destination\n",
       "London       1232       1224.0\n",
       "Atlanta       915        911.0\n",
       "Paris         724        719.0\n",
       "Chicago       697        682.0\n",
       "New York      614        613.0\n",
       "Moscow        608        607.0\n",
       "Shanghai      606        611.0\n",
       "Beijing       605        605.0\n",
       "Istanbul      501        504.0\n",
       "Frankfurt     497        493.0"
      ]
     },
     "metadata": {},
     "output_type": "display_data"
    },
    {
     "data": {
      "text/html": [
       "<div>\n",
       "<style scoped>\n",
       "    .dataframe tbody tr th:only-of-type {\n",
       "        vertical-align: middle;\n",
       "    }\n",
       "\n",
       "    .dataframe tbody tr th {\n",
       "        vertical-align: top;\n",
       "    }\n",
       "\n",
       "    .dataframe thead th {\n",
       "        text-align: right;\n",
       "    }\n",
       "</style>\n",
       "<table border=\"1\" class=\"dataframe\">\n",
       "  <thead>\n",
       "    <tr style=\"text-align: right;\">\n",
       "      <th></th>\n",
       "      <th>source</th>\n",
       "      <th>destination</th>\n",
       "    </tr>\n",
       "  </thead>\n",
       "  <tbody>\n",
       "    <tr>\n",
       "      <th>United States</th>\n",
       "      <td>13015</td>\n",
       "      <td>13010.0</td>\n",
       "    </tr>\n",
       "    <tr>\n",
       "      <th>China</th>\n",
       "      <td>8069</td>\n",
       "      <td>8069.0</td>\n",
       "    </tr>\n",
       "    <tr>\n",
       "      <th>United Kingdom</th>\n",
       "      <td>2663</td>\n",
       "      <td>2637.0</td>\n",
       "    </tr>\n",
       "    <tr>\n",
       "      <th>Spain</th>\n",
       "      <td>2530</td>\n",
       "      <td>2533.0</td>\n",
       "    </tr>\n",
       "    <tr>\n",
       "      <th>Germany</th>\n",
       "      <td>2352</td>\n",
       "      <td>2336.0</td>\n",
       "    </tr>\n",
       "    <tr>\n",
       "      <th>France</th>\n",
       "      <td>1926</td>\n",
       "      <td>1922.0</td>\n",
       "    </tr>\n",
       "    <tr>\n",
       "      <th>Canada</th>\n",
       "      <td>1847</td>\n",
       "      <td>1856.0</td>\n",
       "    </tr>\n",
       "    <tr>\n",
       "      <th>Russia</th>\n",
       "      <td>1839</td>\n",
       "      <td>1843.0</td>\n",
       "    </tr>\n",
       "    <tr>\n",
       "      <th>Italy</th>\n",
       "      <td>1775</td>\n",
       "      <td>1779.0</td>\n",
       "    </tr>\n",
       "    <tr>\n",
       "      <th>India</th>\n",
       "      <td>1506</td>\n",
       "      <td>1503.0</td>\n",
       "    </tr>\n",
       "  </tbody>\n",
       "</table>\n",
       "</div>"
      ],
      "text/plain": [
       "                source  destination\n",
       "United States    13015      13010.0\n",
       "China             8069       8069.0\n",
       "United Kingdom    2663       2637.0\n",
       "Spain             2530       2533.0\n",
       "Germany           2352       2336.0\n",
       "France            1926       1922.0\n",
       "Canada            1847       1856.0\n",
       "Russia            1839       1843.0\n",
       "Italy             1775       1779.0\n",
       "India             1506       1503.0"
      ]
     },
     "metadata": {},
     "output_type": "display_data"
    }
   ],
   "source": [
    "display(df_airport.head(10))\n",
    "display(df_city.head(10))\n",
    "display(df_country.head(10))"
   ]
  },
  {
   "cell_type": "markdown",
   "metadata": {},
   "source": [
    "Insights:\n",
    "- Airports and cities are heavily clustered under 2000 flights. Countries have a more even distribution, with most under approximately 3000.\n",
    "- In each category it appears that there is one to three outliers in each category, the US appears in the outliers in all three.\n",
    "- All of the top cities are in the top 10 countries except for Istanbul.\n",
    "- Many of the top countries are located in or close to Europe.\n",
    "- Most of the top cities are in the US.\n",
    "This would suggest countries are likely to descend very quickly in comparison with the others, showing a sudden drop when one of the outliers is removed. Airports and cities are likely to be closely linked with sudden drops when specific hubs are removed.\n"
   ]
  },
  {
   "cell_type": "markdown",
   "metadata": {},
   "source": [
    "# Model"
   ]
  },
  {
   "cell_type": "markdown",
   "metadata": {},
   "source": [
    "The network used is a multi-directional graph, allowing for the number of flights to be calculated and in which direction, allowing the number and direction of flights to be included.\n",
    "The simplest model the graph can pass through is MC_model which allows the user to specify the following:\n",
    "\n",
    "- Network type ('airport', 'city', 'country')\n",
    "- No. of simulations (integer)\n",
    "- No. of events (integer)\n",
    "- No. of node removals (integer)\n",
    "\n",
    "The next model is all_MC_Models which allows the user to specify the same parameters as MC_Model (excluding types) and returns a line graph. For readability, the mean, maximum value and minimum values are shown for each type instead of all values. This model also uses model_regenerate which deletes and rebuilds the network so the simulation can be rerun.\n",
    "Firstly, the functions will be created, then a small version of the MC_Model with unedited results will be run. An unedited line chart will be shown, followed by a min, max and mean line chart. This will allow the reader to see the difference between the benefits of the min, max and mean line chart instead of showing a line for each simulation. After this, all_MC_Models will be run and finally conclusions will be drawn.\n"
   ]
  },
  {
   "cell_type": "code",
   "execution_count": 9,
   "metadata": {},
   "outputs": [],
   "source": [
    "MDiG = nx.MultiDiGraph()\n",
    "\n",
    "def MC_Model(network, network_type, simulations, events, less_nodes):\n",
    "    \n",
    "    split_edge_numbers = []\n",
    "    df_results = pd.DataFrame(columns=range(events+1))\n",
    "    \n",
    "    for num in range(simulations):\n",
    "        model_regenerate(network, network_type)\n",
    "        nodes_removed = [0]\n",
    "        edge_num = []\n",
    "        edge_num.append(len(network.edges()))\n",
    "        \n",
    "        for num in range(events):\n",
    "            if len(network.nodes()) <= less_nodes: \n",
    "                edge_num.append(0)\n",
    "                continue\n",
    "            \n",
    "            nodes_removed.append(less_nodes+nodes_removed[-1])\n",
    "            for node in range(less_nodes):\n",
    "                network.remove_node(random.choice([item for item in network.nodes()] ))\n",
    "                \n",
    "            edge_num.append(len(network.edges()))\n",
    "        split_edge_numbers.append(edge_num)\n",
    "        \n",
    "    for num in range(len(split_edge_numbers)):\n",
    "        df_results.loc[num] = split_edge_numbers[num]\n",
    "        \n",
    "    return df_results    "
   ]
  },
  {
   "cell_type": "code",
   "execution_count": 10,
   "metadata": {},
   "outputs": [],
   "source": [
    "def model_regenerate(network, network_type):\n",
    "    network.remove_nodes_from([item for item in network.nodes()])\n",
    "    \n",
    "    if network_type == 'airport': \n",
    "        for item in range(len(s_airport)): \n",
    "            network.add_edge(s_airport[item], d_airport[item])\n",
    "    if network_type == 'city': \n",
    "        for item in range(len(s_city)):\n",
    "            network.add_edge(s_city[item], d_city[item])\n",
    "    if network_type == 'country':\n",
    "        for item in range(len(s_country)): \n",
    "            network.add_edge(s_country[item],d_country[item])\n",
    "    return network"
   ]
  },
  {
   "cell_type": "code",
   "execution_count": 19,
   "metadata": {},
   "outputs": [],
   "source": [
    "def all_MC_Models(simulations, events, less_nodes, save=0):\n",
    "    \n",
    "    df_airport = MC_Model(MDiG,'airport', simulations, events, less_nodes)\n",
    "    df_city = MC_Model(MDiG,'city', simulations, events, less_nodes)\n",
    "    df_country = MC_Model(MDiG,'country', simulations, events, less_nodes)\n",
    "    \n",
    "    a_min = plt.plot(df_airport.min(), linewidth=1.0, color='red', alpha=0.7)\n",
    "    a_mean = plt.plot(df_airport.mean(), linewidth=2.0, color='red', alpha=0.7, label='Airport')\n",
    "    a_max = plt.plot(df_airport.max(), linewidth=1.0, color='red', alpha=0.7)\n",
    "    \n",
    "    ci_min = plt.plot(df_city.min(), linewidth=1.0, color='blue', alpha=0.7)\n",
    "    ci_mean = plt.plot(df_city.mean(), linewidth=2.0, color='blue', alpha=0.7, label='City')\n",
    "    ci_max = plt.plot(df_city.max(), linewidth=1.0, color='blue', alpha=0.7)\n",
    "    \n",
    "    co_min = plt.plot(df_country.min(), linewidth=1.0, color='yellow', alpha=0.7)\n",
    "    co_mean = plt.plot(df_country.mean(), linewidth=2.0, color='yellow', alpha=0.7, label='Country')\n",
    "    co_max = plt.plot(df_country.max(), linewidth=1.0, color='yellow', alpha=0.7)\n",
    "\n",
    "    plt.xlabel('Events')\n",
    "    plt.ylabel('Number of Flights')\n",
    "    plt.title(f'Impact of Black Swan Events on Global Flight Numbers \\n {simulations} Simulations with {events} Black Swan Events')\n",
    "    plt.legend(frameon=False, title='Legend')\n",
    "    plt.gca().spines['top'].set_visible(False)\n",
    "    plt.gca().spines['right'].set_visible(False)\n",
    "    plt.plot()\n",
    "    \n",
    "    if save != 0: \n",
    "        plt.savefig(save)"
   ]
  },
  {
   "cell_type": "code",
   "execution_count": 12,
   "metadata": {},
   "outputs": [
    {
     "data": {
      "text/plain": [
       "<matplotlib.axes._subplots.AxesSubplot at 0x223ae6372e0>"
      ]
     },
     "execution_count": 12,
     "metadata": {},
     "output_type": "execute_result"
    },
    {
     "data": {
      "image/png": "[encoded data removed]",
      "text/plain": [
       "<Figure size 432x288 with 1 Axes>"
      ]
     },
     "metadata": {
      "needs_background": "light"
     },
     "output_type": "display_data"
    }
   ],
   "source": [
    "df_results= MC_Model(MDiG, 'country', 50, 5, 5)\n",
    "df_standard = df_results.T\n",
    "df_standard.plot.line(legend=False, title='50 Simulations with 5 Black Swan Events')"
   ]
  },
  {
   "cell_type": "code",
   "execution_count": 13,
   "metadata": {},
   "outputs": [
    {
     "data": {
      "text/plain": [
       "[]"
      ]
     },
     "execution_count": 13,
     "metadata": {},
     "output_type": "execute_result"
    },
    {
     "data": {
      "image/png": "[encoded data removed]",
      "text/plain": [
       "<Figure size 432x288 with 1 Axes>"
      ]
     },
     "metadata": {
      "needs_background": "light"
     },
     "output_type": "display_data"
    }
   ],
   "source": [
    "a_min = plt.plot(df_results.min(), linewidth=1.0, color='red', alpha=0.7, label='Min')\n",
    "a_mean = plt.plot(np.array(df_results.mean()), linewidth=2.0, color='red', alpha=0.7, label='Mean')\n",
    "a_max = plt.plot(df_results.max(), linewidth=1.0, color='red', alpha=0.7, label='Max')\n",
    "plt.title('50 Simulations with 5 Black Swan Events \\n(Mean, Minimum and Maximum)')\n",
    "plt.legend(frameon=False, title='Legend')\n",
    "plt.plot()"
   ]
  },
  {
   "cell_type": "markdown",
   "metadata": {},
   "source": [
    "As can be seen, the Min, Mean, Max line chart conveys the information but also allows for a more readable comparison."
   ]
  },
  {
   "cell_type": "code",
   "execution_count": 22,
   "metadata": {},
   "outputs": [
    {
     "data": {
      "image/png": "[encoded data removed]",
      "text/plain": [
       "<Figure size 432x288 with 1 Axes>"
      ]
     },
     "metadata": {
      "needs_background": "light"
     },
     "output_type": "display_data"
    }
   ],
   "source": [
    "all_MC_Models(20, 400, 5, \"mc_model_output.png\")\n"
   ]
  },
  {
   "cell_type": "markdown",
   "metadata": {},
   "source": [
    "## Observations"
   ]
  },
  {
   "cell_type": "markdown",
   "metadata": {},
   "source": [
    "- Countries bottomed out just below 50 events with quite a wide distribution between minimum and maximum.\n",
    "- Initially airports and cities were closely connected with overlapping values. However, after approximately 200 events, the two diverged with a small but stable difference.\n",
    "\n",
    "It seems that closing multiple countries is likely to have a strong difference on the overall flight number, but there is little difference between airports and cities. Many cities seem to have either few airports with one dominant airport or just one, meaning closing cities is not substantially different (in most cases) to closing airports. Around 1000 airports and cities would need to be closed before many simulations reached approximately half the total number of flights.\n"
   ]
  },
  {
   "cell_type": "markdown",
   "metadata": {},
   "source": [
    "## Improvements"
   ]
  },
  {
   "cell_type": "markdown",
   "metadata": {},
   "source": [
    "Were this experiment to be performed again, the following improvements could be made.\n",
    "\n",
    "Networks\n",
    "- A wider range of networks could be created, including airlines (as they could go bankrupt) and continents.\n",
    "- Smaller networks of key areas (such as the US or Europe) could also be used.\n",
    "\n",
    "Model\n",
    "- The model could include more parameters (such as type of graph returned) which may allow more insights into the data.\n",
    "\n",
    "Data\n",
    "- A wider range of data could be taken from each network which would give a better understanding how the network breaks down (number of weakly connected nodes for example).\n"
   ]
  }
 ],
 "metadata": {
  "kernelspec": {
   "display_name": "Python 3",
   "language": "python",
   "name": "python3"
  },
  "language_info": {
   "codemirror_mode": {
    "name": "ipython",
    "version": 3
   },
   "file_extension": ".py",
   "mimetype": "text/x-python",
   "name": "python",
   "nbconvert_exporter": "python",
   "pygments_lexer": "ipython3",
   "version": "3.8.3"
  }
 },
 "nbformat": 4,
 "nbformat_minor": 4
}
